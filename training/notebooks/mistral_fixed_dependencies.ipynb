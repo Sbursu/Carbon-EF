{
  "cells": [
    {
      "cell_type": "markdown",
      "id": "e57151aa",
      "metadata": {},
      "source": [
        "# Mistral-7B Fine-tuning for Emission Factor Recommendations\n",
        "\n",
        "This notebook implements the fine-tuning process for the Mistral-7B model to generate emission factor recommendations based on the PRD specifications.\n",
        "\n",
        "## Prerequisites\n",
        "\n",
        "1. GPU Runtime in Google Colab\n",
        "2. Google Drive mounted for saving checkpoints\n",
        "3. Hugging Face account with access to Mistral-7B-Instruct-v0.2\n",
        "4. HF_TOKEN in Colab secrets\n"
      ]
    },
    {
      "cell_type": "markdown",
      "id": "c49fecb3",
      "metadata": {},
      "source": [
        "## 1. Environment Setup\n",
        "\n",
        "Install required packages and mount Google Drive."
      ]
    },
    {
      "cell_type": "code",
      "execution_count": null,
      "id": "fb26804f",
      "metadata": {},
      "outputs": [],
      "source": [
        "# Mount Google Drive\nfrom google.colab import drive\ndrive.mount('/content/drive')\n\n# Clean and reinstall critical packages to avoid conflicts\n!pip uninstall -y tensorboard tensorflow numpy\n\n# Install required packages with strict versioning to ensure compatibility\n!pip install -q numpy==1.24.3  # Pin to stable NumPy version to avoid binary incompatibility\n!pip install -q torch==2.0.1\n!pip install -q huggingface_hub==0.17.3\n!pip install -q accelerate==0.22.0\n!pip install -q transformers==4.32.0\n!pip install -q peft==0.5.0\n!pip install -q datasets==2.14.6\n!pip install -q scipy==1.11.4 trl==0.7.2\n!pip install -q bitsandbytes==0.41.1\n!pip install -q matplotlib==3.7.2 pandas==2.0.3\n\n# Verify Python and NumPy versions\n!python --version\n!pip show numpy torch transformers\n\n# Test NumPy functionality\nimport numpy as np\nprint(f\"NumPy version: {np.__version__}\")\nprint(f\"NumPy test array: {np.array([1, 2, 3])}\")"
      ]
    },
    {
      "cell_type": "markdown",
      "id": "5d4cd34d",
      "metadata": {},
      "source": [
        "## 2. Hugging Face Authentication\n",
        "\n",
        "Authenticate with Hugging Face and verify access to the model."
      ]
    },
    {
      "cell_type": "code",
      "execution_count": null,
      "id": "95ea63c2",
      "metadata": {},
      "outputs": [],
      "source": [
        "import os\n",
        "from huggingface_hub import login, HfApi\n",
        "\n",
        "# Login to Hugging Face\n",
        "login(token=os.environ.get('HF_TOKEN'))\n",
        "\n",
        "# Verify access\n",
        "api = HfApi()\n",
        "try:\n",
        "    api.model_info(\"mistralai/Mistral-7B-Instruct-v0.2\")\n",
        "    print(\"Successfully authenticated and have access to the model!\")\n",
        "except Exception as e:\n",
        "    print(f\"Error: {e}\")"
      ]
    },
    {
      "cell_type": "markdown",
      "id": "58678d89",
      "metadata": {},
      "source": [
        "## 3. Custom PyTorch Logging Setup\n",
        "\n",
        "Set up custom logging with PyTorch for experiment tracking."
      ]
    },
    {
      "cell_type": "code",
      "execution_count": null,
      "id": "custom-logger",
      "metadata": {},
      "outputs": [],
      "source": [
        "import os\nimport json\nimport matplotlib.pyplot as plt\nimport datetime\nfrom transformers.trainer_callback import TrainerCallback\n\nclass CustomTrainingLogger:\n    \"\"\"Simple custom logger for tracking metrics during training\"\"\"\n    \n    def __init__(self, log_dir=\"/content/drive/MyDrive/mistral-ef-logs\"):\n        self.log_dir = log_dir\n        os.makedirs(log_dir, exist_ok=True)\n        \n        # Create timestamp for this run\n        self.timestamp = datetime.datetime.now().strftime(\"%Y%m%d_%H%M%S\")\n        self.metrics = {\"train_loss\": [], \"eval_loss\": [], \"steps\": []}\n        self.log_file = f\"{log_dir}/metrics_{self.timestamp}.json\"\n        \n        print(f\"Logs will be saved to {self.log_file}\")\n    \n    def log(self, metrics, step=None):\n        \"\"\"Log metrics at a specific step\"\"\"\n        if step is not None:\n            self.metrics[\"steps\"].append(step)\n            \n        for key, value in metrics.items():\n            if isinstance(value, (int, float)):\n                if key not in self.metrics:\n                    self.metrics[key] = []\n                self.metrics[key].append(value)\n        \n        # Save to file\n        with open(self.log_file, 'w') as f:\n            json.dump(self.metrics, f, indent=2)\n    \n    def plot(self):\n        \"\"\"Plot the training metrics\"\"\"\n        plt.figure(figsize=(12, 6))\n        \n        # Plot each metric\n        for key, values in self.metrics.items():\n            if key != \"steps\" and values:\n                if len(self.metrics[\"steps\"]) == len(values):\n                    plt.plot(self.metrics[\"steps\"], values, label=key)\n                else:\n                    plt.plot(values, label=key)\n        \n        plt.xlabel(\"Steps\")\n        plt.ylabel(\"Value\")\n        plt.title(\"Training Metrics\")\n        plt.legend()\n        plt.grid(True)\n        \n        # Save the plot\n        plot_file = f\"{self.log_dir}/training_plot_{self.timestamp}.png\"\n        plt.savefig(plot_file)\n        plt.show()\n        print(f\"Plot saved to {plot_file}\")\n\nclass LoggingCallback(TrainerCallback):\n    \"\"\"Callback for logging metrics during training\"\"\"\n    def __init__(self, logger):\n        self.logger = logger\n    \n    def on_log(self, args, state, control, logs=None, **kwargs):\n        \"\"\"Log metrics at each logging step\"\"\"\n        if logs is not None and hasattr(state, \"global_step\"):\n            # Print to console\n            print(f\"Logging metrics at step {state.global_step}: {logs}\")\n            # Log to our custom logger\n            self.logger.log(logs, state.global_step)\n\n# Initialize logger\nlogger = CustomTrainingLogger()"
      ]
    },
    {
      "cell_type": "markdown",
      "id": "80b047b6",
      "metadata": {},
      "source": [
        "## 4. Model and Tokenizer Configuration\n",
        "\n",
        "Set up the Mistral-7B model with 16-bit precision and LoRA configuration."
      ]
    },
    {
      "cell_type": "code",
      "execution_count": null,
      "id": "0eaa3297",
      "metadata": {},
      "outputs": [],
      "source": [
        "import torch\n",
        "from transformers import AutoModelForCausalLM, AutoTokenizer\n",
        "from peft import LoraConfig, get_peft_model\n",
        "\n",
        "# Model configuration\n",
        "MODEL_NAME = \"mistralai/Mistral-7B-Instruct-v0.2\"\n",
        "\n",
        "# Load tokenizer\n",
        "tokenizer = AutoTokenizer.from_pretrained(MODEL_NAME, trust_remote_code=True)\n",
        "tokenizer.pad_token = tokenizer.eos_token\n",
        "\n",
        "# Explicitly set device\n",
        "device = torch.device(\"cuda\" if torch.cuda.is_available() else \"cpu\")\n",
        "print(f\"Using device: {device}\")\n",
        "\n",
        "# Fixed model loading to avoid meta tensor error\n",
        "model = AutoModelForCausalLM.from_pretrained(\n",
        "    MODEL_NAME,\n",
        "    torch_dtype=torch.float16,\n",
        "    device_map=None,  # Don't use auto device mapping\n",
        "    trust_remote_code=True,\n",
        ")\n",
        "model = model.to(device)  # Explicitly move to device\n",
        "\n",
        "# Configure LoRA\n",
        "lora_config = LoraConfig(\n",
        "    r=8,  # Reduced rank for better memory usage\n",
        "    lora_alpha=16,\n",
        "    target_modules=[\"q_proj\", \"v_proj\", \"k_proj\", \"o_proj\", \"gate_proj\", \"up_proj\", \"down_proj\"],\n",
        "    lora_dropout=0.05,\n",
        "    bias=\"none\",\n",
        "    task_type=\"CAUSAL_LM\"\n",
        ")\n",
        "\n",
        "# Apply LoRA\n",
        "model = get_peft_model(model, lora_config)\n",
        "print(\"Model and tokenizer configured successfully!\")"
      ]
    },
    {
      "cell_type": "markdown",
      "id": "91166f44",
      "metadata": {},
      "source": [
        "## 5. Data Preparation\n",
        "\n",
        "Load and prepare the training data. If the data files don't exist, create sample data for testing."
      ]
    },
    {
      "cell_type": "code",
      "execution_count": null,
      "id": "84fdafaa",
      "metadata": {},
      "outputs": [],
      "source": [
        "# Clone the repository\n",
        "!git clone https://github.com/Sbursu/Carbon-EF.git\n",
        "%cd Carbon-EF\n",
        "\n",
        "# Create sample data if it doesn't exist\n",
        "import os\n",
        "import json\n",
        "from datasets import load_dataset\n",
        "\n",
        "# Check for the data directory and create it if it doesn't exist\n",
        "!mkdir -p training/data\n",
        "\n",
        "# Define sample data for emission factors\n",
        "sample_data = [\n",
        "    {\n",
        "        \"instruction\": \"Recommend an emission factor for rice production in Asia.\",\n",
        "        \"output\": \"For rice production in Asia, I recommend using an emission factor of 1.46 kg CO2e per kg of rice, based on the Agribalyse database.\"\n",
        "    },\n",
        "    {\n",
        "        \"instruction\": \"What is the carbon footprint of beef production?\",\n",
        "        \"output\": \"The carbon footprint of beef production is approximately 27 kg CO2e per kg of beef, making it one of the highest emission foods.\"\n",
        "    },\n",
        "    {\n",
        "        \"instruction\": \"Provide an emission factor for electricity generation from coal.\",\n",
        "        \"output\": \"For electricity generation from coal, the emission factor is approximately 1000 g CO2e per kWh, which is significantly higher than renewable sources.\"\n",
        "    }\n",
        "]\n",
        "\n",
        "# Create train, validation, and test files if they don't exist\n",
        "data_files = {\n",
        "    'training/data/instructions_train.json': sample_data[:2],\n",
        "    'training/data/instructions_val.json': [sample_data[2]],\n",
        "    'training/data/instructions_test.json': [sample_data[2]]\n",
        "}\n",
        "\n",
        "for file_path, data in data_files.items():\n",
        "    if not os.path.exists(file_path):\n",
        "        print(f\"Creating sample data file: {file_path}\")\n",
        "        with open(file_path, 'w') as f:\n",
        "            json.dump(data, f)\n",
        "\n",
        "# Now load the datasets\n",
        "try:\n",
        "    train_data = load_dataset('json', data_files='training/data/instructions_train.json')\n",
        "    val_data = load_dataset('json', data_files='training/data/instructions_val.json')\n",
        "    test_data = load_dataset('json', data_files='training/data/instructions_test.json')\n",
        "    \n",
        "    # Format instruction template\n",
        "    def format_instruction(example):\n",
        "        instruction = example['instruction']\n",
        "        input_text = example.get('input', '')\n",
        "        output = example['output']\n",
        "        \n",
        "        if input_text:\n",
        "            formatted = f\"<s>[INST] {instruction}\\n\\n{input_text} [/INST] {output} </s>\"\n",
        "        else:\n",
        "            formatted = f\"<s>[INST] {instruction} [/INST] {output} </s>\"\n",
        "        \n",
        "        return {'text': formatted}\n",
        "\n",
        "    # Apply formatting\n",
        "    train_data = train_data.map(format_instruction)\n",
        "    val_data = val_data.map(format_instruction)\n",
        "    test_data = test_data.map(format_instruction)\n",
        "\n",
        "    print(f\"Training samples: {len(train_data['train'])}\")\n",
        "    print(f\"Validation samples: {len(val_data['train'])}\")\n",
        "    print(f\"Test samples: {len(test_data['train'])}\")\n",
        "    \n",
        "except Exception as e:\n",
        "    print(f\"Error loading datasets: {e}\")\n",
        "    print(\"Please check that the data files exist and are properly formatted.\")"
      ]
    },
    {
      "cell_type": "markdown",
      "id": "44710508",
      "metadata": {},
      "source": [
        "## 6. Training Configuration\n",
        "\n",
        "Set up training arguments and initialize the trainer."
      ]
    },
    {
      "cell_type": "code",
      "execution_count": null,
      "id": "9c4abfe4",
      "metadata": {},
      "outputs": [],
      "source": [
        "from transformers import TrainingArguments, Trainer, DataCollatorForLanguageModeling\n",
        "\n",
        "# Training arguments\n",
        "training_args = TrainingArguments(\n",
        "    output_dir=\"/content/drive/MyDrive/mistral-ef-checkpoints\",\n",
        "    num_train_epochs=3,\n",
        "    per_device_train_batch_size=1,  # Reduced batch size for better memory usage\n",
        "    gradient_accumulation_steps=8,  # Increased gradient accumulation steps\n",
        "    learning_rate=2e-4,\n",
        "    fp16=True,\n",
        "    logging_steps=10,\n",
        "    save_strategy=\"epoch\",\n",
        "    eval_strategy=\"epoch\",  # Fixed deprecated warning\n",
        "    load_best_model_at_end=True,\n",
        "    report_to=\"none\",\n",
        "    warmup_ratio=0.1,\n",
        "    gradient_checkpointing=True,  # Enable gradient checkpointing to save memory\n",
        "    optim=\"adamw_torch\",\n",
        "    max_grad_norm=0.3\n",
        ")\n",
        "\n",
        "# Data collator\n",
        "data_collator = DataCollatorForLanguageModeling(\n",
        "    tokenizer=tokenizer,\n",
        "    mlm=False\n",
        ")\n",
        "\n",
        "# Initialize trainer with fixed parameters (avoid deprecated warning)\n",
        "trainer = Trainer(\n",
        "    model=model,\n",
        "    args=training_args,\n",
        "    train_dataset=train_data['train'],\n",
        "    eval_dataset=val_data['train'],\n",
        "    data_collator=data_collator,\n    callbacks=[LoggingCallback(logger)]\n",
        ")\n",
        "\n",
        "print(\"Training configuration completed!\")"
      ]
    },
    {
      "cell_type": "markdown",
      "id": "9b3cf3b2",
      "metadata": {},
      "source": [
        "## 7. Training Process\n",
        "\n",
        "Start the fine-tuning process."
      ]
    },
    {
      "cell_type": "code",
      "execution_count": null,
      "id": "ff1c710f",
      "metadata": {},
      "outputs": [],
      "source": [
        "# Start training\n",
        "trainer.train()\n",
        "\n",
        "# Save the final model\n",
        "trainer.save_model(\"/content/drive/MyDrive/mistral-ef-final\")"
      ]
    },
    {
      "cell_type": "markdown",
      "id": "4a595e15",
      "metadata": {},
      "source": [
        "## 8. Model Evaluation\n",
        "\n",
        "Evaluate the fine-tuned model on the test set."
      ]
    },
    {
      "cell_type": "code",
      "execution_count": null,
      "id": "3fc3f2ee",
      "metadata": {},
      "outputs": [],
      "source": [
        "# Evaluate on test set\n",
        "test_results = trainer.evaluate(test_data['train'])\n",
        "print(f\"Test results: {test_results}\")"
      ]
    },
    {
      "cell_type": "markdown",
      "id": "436bc988",
      "metadata": {},
      "source": [
        "## 9. Save and Export\n",
        "\n",
        "Save the model and tokenizer to Google Drive."
      ]
    },
    {
      "cell_type": "code",
      "execution_count": null,
      "id": "b6d56915",
      "metadata": {},
      "outputs": [],
      "source": [
        "# Save model and tokenizer\n",
        "model.save_pretrained(\"/content/drive/MyDrive/mistral-ef-final\")\n",
        "tokenizer.save_pretrained(\"/content/drive/MyDrive/mistral-ef-final\")\n",
        "\n",
        "# Save training configuration\n",
        "import json\n",
        "with open(\"/content/drive/MyDrive/mistral-ef-final/training_config.json\", \"w\") as f:\n",
        "    json.dump({\n",
        "        \"model_name\": MODEL_NAME,\n",
        "        \"lora_config\": lora_config.to_dict(),\n",
        "        \"training_args\": training_args.to_dict(),\n        \"test_results\": test_results\n",
        "    }, f, indent=2)\n",
        "\n",
        "print(\"Model and configuration saved successfully!\")"
      ]
    }
  ],
  "metadata": {
    "language_info": {
      "name": "python"
    },
    "accelerator": "GPU",
    "colab": {
      "gpuType": "T4",
      "provenance": []
    }
  },
  "nbformat": 4,
  "nbformat_minor": 5
}