{
 "cells": [
  {
   "cell_type": "markdown",
   "id": "92515850",
   "metadata": {},
   "source": [
    "# Mistral-7B Fine-tuning for Emission Factor Recommendations\n",
    "\n",
    "This notebook implements the fine-tuning process for the Mistral-7B model to generate emission factor recommendations based on the PRD specifications.\n",
    "\n",
    "## Prerequisites\n",
    "\n",
    "1. GPU Runtime in Google Colab\n",
    "2. Google Drive mounted for saving checkpoints\n",
    "3. Hugging Face account with access to Mistral-7B-Instruct-v0.2\n",
    "4. HF_TOKEN in Colab secrets"
   ]
  },
  {
   "cell_type": "markdown",
   "id": "519e81e0",
   "metadata": {},
   "source": [
    "## 1. Environment Setup\n",
    "\n",
    "Install required packages and mount Google Drive."
   ]
  },
  {
   "cell_type": "code",
   "execution_count": null,
   "id": "1b3f1b86",
   "metadata": {},
   "outputs": [],
   "source": [
    "# Mount Google Drive\n",
    "from google.colab import drive\n",
    "drive.mount('/content/drive')\n",
    "\n",
    "# Install required packages\n",
    "!pip install -q torch transformers peft datasets accelerate scipy wandb trl"
   ]
  },
  {
   "cell_type": "markdown",
   "id": "c3d83b30",
   "metadata": {},
   "source": [
    "## 2. Hugging Face Authentication\n",
    "\n",
    "Authenticate with Hugging Face and verify access to the model."
   ]
  },
  {
   "cell_type": "code",
   "execution_count": null,
   "id": "39dcb3f5",
   "metadata": {},
   "outputs": [],
   "source": [
    "import os\n",
    "from huggingface_hub import login, HfApi\n",
    "\n",
    "# Login to Hugging Face\n",
    "login(token=os.environ.get('HF_TOKEN'))\n",
    "\n",
    "# Verify access\n",
    "api = HfApi()\n",
    "try:\n",
    "    api.model_info(\"mistralai/Mistral-7B-Instruct-v0.2\")\n",
    "    print(\"Successfully authenticated and have access to the model!\")\n",
    "except Exception as e:\n",
    "    print(f\"Error: {e}\")"
   ]
  },
  {
   "cell_type": "markdown",
   "id": "1257a4d2",
   "metadata": {},
   "source": [
    "## 3. Model and Tokenizer Configuration\n",
    "\n",
    "Set up the Mistral-7B model with 16-bit precision and LoRA configuration."
   ]
  },
  {
   "cell_type": "code",
   "execution_count": null,
   "id": "f011ae57",
   "metadata": {},
   "outputs": [],
   "source": [
    "import torch\n",
    "from transformers import AutoModelForCausalLM, AutoTokenizer\n",
    "from peft import LoraConfig, get_peft_model\n",
    "\n",
    "# Model configuration\n",
    "MODEL_NAME = \"mistralai/Mistral-7B-Instruct-v0.2\"\n",
    "\n",
    "# Load tokenizer\n",
    "tokenizer = AutoTokenizer.from_pretrained(MODEL_NAME, trust_remote_code=True)\n",
    "tokenizer.pad_token = tokenizer.eos_token\n",
    "\n",
    "# Load model with 16-bit precision instead of 4-bit quantization\n",
    "model = AutoModelForCausalLM.from_pretrained(\n",
    "    MODEL_NAME,\n",
    "    torch_dtype=torch.float16,\n",
    "    device_map=\"auto\",\n",
    "    trust_remote_code=True,\n",
    "    low_cpu_mem_usage=True\n",
    ")\n",
    "\n",
    "# Configure LoRA\n",
    "lora_config = LoraConfig(\n",
    "    r=16,  # Reduced rank for better memory usage\n",
    "    lora_alpha=16,\n",
    "    target_modules=[\"q_proj\", \"v_proj\", \"k_proj\", \"o_proj\", \"gate_proj\", \"up_proj\", \"down_proj\"],\n",
    "    lora_dropout=0.05,\n",
    "    bias=\"none\",\n",
    "    task_type=\"CAUSAL_LM\"\n",
    ")\n",
    "\n",
    "# Apply LoRA\n",
    "model = get_peft_model(model, lora_config)\n",
    "print(\"Model and tokenizer configured successfully!\")"
   ]
  },
  {
   "cell_type": "markdown",
   "id": "dcae33c6",
   "metadata": {},
   "source": [
    "## 4. Data Preparation\n",
    "\n",
    "Load and prepare the training data from the GitHub repository."
   ]
  },
  {
   "cell_type": "code",
   "execution_count": null,
   "id": "423aec8f",
   "metadata": {},
   "outputs": [],
   "source": [
    "# Clone the repository\n",
    "!git clone https://github.com/Sbursu/Carbon-EF.git\n",
    "%cd Carbon-EF\n",
    "\n",
    "# Load datasets\n",
    "from datasets import load_dataset\n",
    "\n",
    "train_data = load_dataset('json', data_files='training/data/instructions_train.json')\n",
    "val_data = load_dataset('json', data_files='training/data/instructions_val.json')\n",
    "test_data = load_dataset('json', data_files='training/data/instructions_test.json')\n",
    "\n",
    "# Format instruction template\n",
    "def format_instruction(example):\n",
    "    instruction = example['instruction']\n",
    "    input_text = example.get('input', '')\n",
    "    output = example['output']\n",
    "    \n",
    "    if input_text:\n",
    "        formatted = f\"<s>[INST] {instruction}\\n\\n{input_text} [/INST] {output} </s>\"\n",
    "    else:\n",
    "        formatted = f\"<s>[INST] {instruction} [/INST] {output} </s>\"\n",
    "    \n",
    "    return {'text': formatted}\n",
    "\n",
    "# Apply formatting\n",
    "train_data = train_data.map(format_instruction)\n",
    "val_data = val_data.map(format_instruction)\n",
    "test_data = test_data.map(format_instruction)\n",
    "\n",
    "print(f\"Training samples: {len(train_data['train'])}\")\n",
    "print(f\"Validation samples: {len(val_data['train'])}\")\n",
    "print(f\"Test samples: {len(test_data['train'])}\")"
   ]
  },
  {
   "cell_type": "markdown",
   "id": "e73ac3a9",
   "metadata": {},
   "source": [
    "## 5. Training Configuration\n",
    "\n",
    "Set up training arguments and initialize the trainer."
   ]
  },
  {
   "cell_type": "code",
   "execution_count": null,
   "id": "1f97a0a2",
   "metadata": {},
   "outputs": [],
   "source": [
    "from transformers import TrainingArguments, Trainer, DataCollatorForLanguageModeling\n",
    "\n",
    "# Training arguments\n",
    "training_args = TrainingArguments(\n",
    "    output_dir=\"/content/drive/MyDrive/mistral-ef-checkpoints\",\n",
    "    num_train_epochs=3,\n",
    "    per_device_train_batch_size=2,  # Reduced batch size for better memory usage\n",
    "    gradient_accumulation_steps=8,  # Increased gradient accumulation steps\n",
    "    learning_rate=2e-4,\n",
    "    fp16=True,\n",
    "    logging_steps=10,\n",
    "    save_strategy=\"epoch\",\n",
    "    evaluation_strategy=\"epoch\",\n",
    "    load_best_model_at_end=True,\n",
    "    report_to=\"wandb\",\n",
    "    warmup_ratio=0.1\n",
    ")\n",
    "\n",
    "# Data collator\n",
    "data_collator = DataCollatorForLanguageModeling(\n",
    "    tokenizer=tokenizer,\n",
    "    mlm=False\n",
    ")\n",
    "\n",
    "# Initialize trainer\n",
    "trainer = Trainer(\n",
    "    model=model,\n",
    "    args=training_args,\n",
    "    train_dataset=train_data['train'],\n",
    "    eval_dataset=val_data['train'],\n",
    "    tokenizer=tokenizer,\n",
    "    data_collator=data_collator\n",
    ")\n",
    "\n",
    "print(\"Training configuration completed!\")"
   ]
  },
  {
   "cell_type": "markdown",
   "id": "cf2606e9",
   "metadata": {},
   "source": [
    "## 6. Training Process\n",
    "\n",
    "Start the fine-tuning process."
   ]
  },
  {
   "cell_type": "code",
   "execution_count": null,
   "id": "6e4ecd76",
   "metadata": {},
   "outputs": [],
   "source": [
    "# Start training\n",
    "trainer.train()\n",
    "\n",
    "# Save the final model\n",
    "trainer.save_model(\"/content/drive/MyDrive/mistral-ef-final\")"
   ]
  },
  {
   "cell_type": "markdown",
   "id": "4d2b741d",
   "metadata": {},
   "source": [
    "## 7. Model Evaluation\n",
    "\n",
    "Evaluate the fine-tuned model on the test set."
   ]
  },
  {
   "cell_type": "code",
   "execution_count": null,
   "id": "41df1eba",
   "metadata": {},
   "outputs": [],
   "source": [
    "# Evaluate on test set\n",
    "test_results = trainer.evaluate(test_data['train'])\n",
    "print(f\"Test results: {test_results}\")"
   ]
  },
  {
   "cell_type": "markdown",
   "id": "c29b53b6",
   "metadata": {},
   "source": [
    "## 8. Save and Export\n",
    "\n",
    "Save the model and tokenizer to Google Drive."
   ]
  },
  {
   "cell_type": "code",
   "execution_count": null,
   "id": "f324a09a",
   "metadata": {},
   "outputs": [],
   "source": [
    "# Save model and tokenizer\n",
    "model.save_pretrained(\"/content/drive/MyDrive/mistral-ef-final\")\n",
    "tokenizer.save_pretrained(\"/content/drive/MyDrive/mistral-ef-final\")\n",
    "\n",
    "# Save training configuration\n",
    "import json\n",
    "with open(\"/content/drive/MyDrive/mistral-ef-final/training_config.json\", \"w\") as f:\n",
    "    json.dump({\n",
    "        \"model_name\": MODEL_NAME,\n",
    "        \"lora_config\": lora_config.to_dict(),\n",
    "        \"training_args\": training_args.to_dict(),\n",
    "        \"test_results\": test_results\n",
    "    }, f, indent=2)\n",
    "\n",
    "print(\"Model and configuration saved successfully!\")"
   ]
  }
 ],
 "metadata": {},
 "nbformat": 4,
 "nbformat_minor": 5
}
