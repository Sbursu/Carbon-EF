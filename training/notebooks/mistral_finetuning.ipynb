{
 "cells": [
  {
   "cell_type": "markdown",
   "id": "4b7aa8bd",
   "metadata": {},
   "source": [
    "# Mistral-7B Fine-tuning for Emission Factor Recommendations\n",
    "\n",
    "This notebook implements the fine-tuning process for the Mistral-7B model to generate emission factor recommendations based on the PRD specifications.\n",
    "\n",
    "## Prerequisites\n",
    "\n",
    "1. GPU Runtime in Google Colab\n",
    "2. Google Drive mounted for saving checkpoints\n",
    "3. Hugging Face account with access to Mistral-7B-Instruct-v0.2\n",
    "4. HF_TOKEN in Colab secrets"
   ]
  },
  {
   "cell_type": "markdown",
   "id": "4e174595",
   "metadata": {},
   "source": [
    "## 1. Environment Setup\n",
    "\n",
    "Install required packages and mount Google Drive."
   ]
  },
  {
   "cell_type": "code",
   "execution_count": null,
   "id": "e689c602",
   "metadata": {},
   "outputs": [],
   "source": [
    "# Mount Google Drive\n",
    "from google.colab import drive\n",
    "drive.mount('/content/drive')\n",
    "\n",
    "# Install required packages\n",
    "!pip install -q torch transformers peft datasets accelerate scipy wandb trl"
   ]
  },
  {
   "cell_type": "markdown",
   "id": "27801205",
   "metadata": {},
   "source": [
    "## 2. Hugging Face Authentication\n",
    "\n",
    "Authenticate with Hugging Face and verify access to the model."
   ]
  },
  {
   "cell_type": "code",
   "execution_count": null,
   "id": "5f1cd385",
   "metadata": {},
   "outputs": [],
   "source": [
    "import os\n",
    "from huggingface_hub import login, HfApi\n",
    "\n",
    "# Login to Hugging Face\n",
    "login(token=os.environ.get('HF_TOKEN'))\n",
    "\n",
    "# Verify access\n",
    "api = HfApi()\n",
    "try:\n",
    "    api.model_info(\"mistralai/Mistral-7B-Instruct-v0.2\")\n",
    "    print(\"Successfully authenticated and have access to the model!\")\n",
    "except Exception as e:\n",
    "    print(f\"Error: {e}\")"
   ]
  },
  {
   "cell_type": "markdown",
   "id": "44337e36",
   "metadata": {},
   "source": [
    "## 3. Model and Tokenizer Configuration\n",
    "\n",
    "Set up the Mistral-7B model with 16-bit precision and LoRA configuration."
   ]
  },
  {
   "cell_type": "code",
   "execution_count": null,
   "id": "e69c6efb",
   "metadata": {},
   "outputs": [],
   "source": [
    "import torch\n",
    "from transformers import AutoModelForCausalLM, AutoTokenizer\n",
    "from peft import LoraConfig, get_peft_model\n",
    "\n",
    "# Model configuration\n",
    "MODEL_NAME = \"mistralai/Mistral-7B-Instruct-v0.2\"\n",
    "\n",
    "# Load tokenizer\n",
    "tokenizer = AutoTokenizer.from_pretrained(MODEL_NAME, trust_remote_code=True)\n",
    "tokenizer.pad_token = tokenizer.eos_token\n",
    "\n",
    "# Load model with 16-bit precision instead of 4-bit quantization\n",
    "model = AutoModelForCausalLM.from_pretrained(\n",
    "    MODEL_NAME,\n",
    "    torch_dtype=torch.float16,\n",
    "    device_map=\"auto\",\n",
    "    trust_remote_code=True,\n",
    "    low_cpu_mem_usage=True\n",
    ")\n",
    "\n",
    "# Configure LoRA\n",
    "lora_config = LoraConfig(\n",
    "    r=16,  # Reduced rank for better memory usage\n",
    "    lora_alpha=16,\n",
    "    target_modules=[\"q_proj\", \"v_proj\", \"k_proj\", \"o_proj\", \"gate_proj\", \"up_proj\", \"down_proj\"],\n",
    "    lora_dropout=0.05,\n",
    "    bias=\"none\",\n",
    "    task_type=\"CAUSAL_LM\"\n",
    ")\n",
    "\n",
    "# Apply LoRA\n",
    "model = get_peft_model(model, lora_config)\n",
    "print(\"Model and tokenizer configured successfully!\")"
   ]
  },
  {
   "cell_type": "markdown",
   "id": "c4cc8091",
   "metadata": {},
   "source": [
    "## 4. Data Preparation\n",
    "\n",
    "Load and prepare the training data. If the data files don't exist, create sample data for testing."
   ]
  },
  {
   "cell_type": "code",
   "execution_count": null,
   "id": "b14e3fb1",
   "metadata": {},
   "outputs": [],
   "source": [
    "# Clone the repository\n",
    "!git clone https://github.com/Sbursu/Carbon-EF.git\n",
    "%cd Carbon-EF\n",
    "\n",
    "# Create sample data if it doesn't exist\n",
    "import os\n",
    "import json\n",
    "from datasets import load_dataset\n",
    "\n",
    "# Check for the data directory and create it if it doesn't exist\n",
    "!mkdir -p training/data\n",
    "\n",
    "# Define sample data for emission factors\n",
    "sample_data = [\n",
    "    {\n",
    "        \"instruction\": \"Recommend an emission factor for rice production in Asia.\",\n",
    "        \"output\": \"For rice production in Asia, I recommend using an emission factor of 1.46 kg CO2e per kg of rice, based on the Agribalyse database.\"\n",
    "    },\n",
    "    {\n",
    "        \"instruction\": \"What is the carbon footprint of beef production?\",\n",
    "        \"output\": \"The carbon footprint of beef production is approximately 27 kg CO2e per kg of beef, making it one of the highest emission foods.\"\n",
    "    },\n",
    "    {\n",
    "        \"instruction\": \"Provide an emission factor for electricity generation from coal.\",\n",
    "        \"output\": \"For electricity generation from coal, the emission factor is approximately 1000 g CO2e per kWh, which is significantly higher than renewable sources.\"\n",
    "    }\n",
    "]\n",
    "\n",
    "# Create train, validation, and test files if they don't exist\n",
    "data_files = {\n",
    "    'training/data/instructions_train.json': sample_data[:2],\n",
    "    'training/data/instructions_val.json': [sample_data[2]],\n",
    "    'training/data/instructions_test.json': [sample_data[2]]\n",
    "}\n",
    "\n",
    "for file_path, data in data_files.items():\n",
    "    if not os.path.exists(file_path):\n",
    "        print(f\"Creating sample data file: {file_path}\")\n",
    "        with open(file_path, 'w') as f:\n",
    "            json.dump(data, f)\n",
    "\n",
    "# Now load the datasets\n",
    "try:\n",
    "    train_data = load_dataset('json', data_files='training/data/instructions_train.json')\n",
    "    val_data = load_dataset('json', data_files='training/data/instructions_val.json')\n",
    "    test_data = load_dataset('json', data_files='training/data/instructions_test.json')\n",
    "    \n",
    "    # Format instruction template\n",
    "    def format_instruction(example):\n",
    "        instruction = example['instruction']\n",
    "        input_text = example.get('input', '')\n",
    "        output = example['output']\n",
    "        \n",
    "        if input_text:\n",
    "            formatted = f\"<s>[INST] {instruction}\\n\\n{input_text} [/INST] {output} </s>\"\n",
    "        else:\n",
    "            formatted = f\"<s>[INST] {instruction} [/INST] {output} </s>\"\n",
    "        \n",
    "        return {'text': formatted}\n",
    "\n",
    "    # Apply formatting\n",
    "    train_data = train_data.map(format_instruction)\n",
    "    val_data = val_data.map(format_instruction)\n",
    "    test_data = test_data.map(format_instruction)\n",
    "\n",
    "    print(f\"Training samples: {len(train_data['train'])}\")\n",
    "    print(f\"Validation samples: {len(val_data['train'])}\")\n",
    "    print(f\"Test samples: {len(test_data['train'])}\")\n",
    "    \n",
    "except Exception as e:\n",
    "    print(f\"Error loading datasets: {e}\")\n",
    "    print(\"Please check that the data files exist and are properly formatted.\")"
   ]
  },
  {
   "cell_type": "markdown",
   "id": "63e34631",
   "metadata": {},
   "source": [
    "## 5. Training Configuration\n",
    "\n",
    "Set up training arguments and initialize the trainer."
   ]
  },
  {
   "cell_type": "code",
   "execution_count": null,
   "id": "6eef30b2",
   "metadata": {},
   "outputs": [],
   "source": [
    "from transformers import TrainingArguments, Trainer, DataCollatorForLanguageModeling\n",
    "\n",
    "# Training arguments\n",
    "training_args = TrainingArguments(\n",
    "    output_dir=\"/content/drive/MyDrive/mistral-ef-checkpoints\",\n",
    "    num_train_epochs=3,\n",
    "    per_device_train_batch_size=2,  # Reduced batch size for better memory usage\n",
    "    gradient_accumulation_steps=8,  # Increased gradient accumulation steps\n",
    "    learning_rate=2e-4,\n",
    "    fp16=True,\n",
    "    logging_steps=10,\n",
    "    save_strategy=\"epoch\",\n",
    "    evaluation_strategy=\"epoch\",\n",
    "    load_best_model_at_end=True,\n",
    "    report_to=\"wandb\",\n",
    "    warmup_ratio=0.1\n",
    ")\n",
    "\n",
    "# Data collator\n",
    "data_collator = DataCollatorForLanguageModeling(\n",
    "    tokenizer=tokenizer,\n",
    "    mlm=False\n",
    ")\n",
    "\n",
    "# Initialize trainer\n",
    "trainer = Trainer(\n",
    "    model=model,\n",
    "    args=training_args,\n",
    "    train_dataset=train_data['train'],\n",
    "    eval_dataset=val_data['train'],\n",
    "    tokenizer=tokenizer,\n",
    "    data_collator=data_collator\n",
    ")\n",
    "\n",
    "print(\"Training configuration completed!\")"
   ]
  },
  {
   "cell_type": "markdown",
   "id": "7a5ffe7a",
   "metadata": {},
   "source": [
    "## 6. Training Process\n",
    "\n",
    "Start the fine-tuning process."
   ]
  },
  {
   "cell_type": "code",
   "execution_count": null,
   "id": "22bd419a",
   "metadata": {},
   "outputs": [],
   "source": [
    "# Start training\n",
    "trainer.train()\n",
    "\n",
    "# Save the final model\n",
    "trainer.save_model(\"/content/drive/MyDrive/mistral-ef-final\")"
   ]
  },
  {
   "cell_type": "markdown",
   "id": "d90028b4",
   "metadata": {},
   "source": [
    "## 7. Model Evaluation\n",
    "\n",
    "Evaluate the fine-tuned model on the test set."
   ]
  },
  {
   "cell_type": "code",
   "execution_count": null,
   "id": "968984a6",
   "metadata": {},
   "outputs": [],
   "source": [
    "# Evaluate on test set\n",
    "test_results = trainer.evaluate(test_data['train'])\n",
    "print(f\"Test results: {test_results}\")"
   ]
  },
  {
   "cell_type": "markdown",
   "id": "03df9cde",
   "metadata": {},
   "source": [
    "## 8. Save and Export\n",
    "\n",
    "Save the model and tokenizer to Google Drive."
   ]
  },
  {
   "cell_type": "code",
   "execution_count": null,
   "id": "c0461cc9",
   "metadata": {},
   "outputs": [],
   "source": [
    "# Save model and tokenizer\n",
    "model.save_pretrained(\"/content/drive/MyDrive/mistral-ef-final\")\n",
    "tokenizer.save_pretrained(\"/content/drive/MyDrive/mistral-ef-final\")\n",
    "\n",
    "# Save training configuration\n",
    "import json\n",
    "with open(\"/content/drive/MyDrive/mistral-ef-final/training_config.json\", \"w\") as f:\n",
    "    json.dump({\n",
    "        \"model_name\": MODEL_NAME,\n",
    "        \"lora_config\": lora_config.to_dict(),\n",
    "        \"training_args\": training_args.to_dict(),\n",
    "        \"test_results\": test_results\n",
    "    }, f, indent=2)\n",
    "\n",
    "print(\"Model and configuration saved successfully!\")"
   ]
  }
 ],
 "metadata": {},
 "nbformat": 4,
 "nbformat_minor": 5
}
