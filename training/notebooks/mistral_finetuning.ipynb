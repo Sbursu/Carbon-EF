{
 "cells": [
  {
   "cell_type": "markdown",
   "id": "210a4fd5",
   "metadata": {},
   "source": [
    "# Mistral-7B Fine-tuning for Emission Factor Recommendations\n",
    "\n",
    "This notebook implements the fine-tuning of the Mistral-7B-Instruct-v0.2 model for emission factor recommendations using LoRA (Low-Rank Adaptation).\n",
    "\n",
    "## Setup Requirements\n",
    "\n",
    "- GPU Runtime (T4 or A100 recommended)\n",
    "- Google Drive mounted for saving checkpoints\n",
    "- Required packages installed\n",
    "- Training data from GitHub repository\n",
    "\n",
    "## Notebook Structure\n",
    "\n",
    "1. Environment Setup\n",
    "2. Model and Tokenizer Configuration\n",
    "3. Data Preparation\n",
    "4. Training Setup\n",
    "5. Model Training\n",
    "6. Model Evaluation\n",
    "7. Model Saving and Export"
   ]
  },
  {
   "cell_type": "markdown",
   "id": "fb5e8f2f",
   "metadata": {},
   "source": [
    "## 1. Environment Setup\n",
    "\n",
    "First, we'll mount Google Drive and install the required packages."
   ]
  },
  {
   "cell_type": "code",
   "execution_count": null,
   "id": "086c70d9",
   "metadata": {},
   "outputs": [],
   "source": [
    "# Mount Google Drive\n",
    "from google.colab import drive\n",
    "drive.mount('/content/drive')\n",
    "\n",
    "# Install required packages\n",
    "!pip install -q torch>=2.0.0 transformers>=4.34.0 peft>=0.5.0 accelerate>=0.21.0 \\\n",
    "    bitsandbytes>=0.40.0 trl>=0.7.1 tensorboard>=2.14.0 datasets>=2.14.0 \\\n",
    "    evaluate>=0.4.0 tqdm>=4.66.1 pandas>=2.1.0 matplotlib>=3.7.2 \\\n",
    "    seaborn>=0.12.2 sentencepiece>=0.1.99 scipy>=1.11.2 \\\n",
    "    scikit-learn>=1.3.0 einops>=0.6.1 wandb>=0.15.10"
   ]
  },
  {
   "cell_type": "markdown",
   "id": "dc7834b3",
   "metadata": {},
   "source": [
    "## 2. Model and Tokenizer Configuration\n",
    "\n",
    "Set up the Mistral-7B model with 4-bit quantization and LoRA configuration."
   ]
  },
  {
   "cell_type": "code",
   "execution_count": null,
   "id": "b78b2a8e",
   "metadata": {},
   "outputs": [],
   "source": [
    "import torch\n",
    "from transformers import AutoModelForCausalLM, AutoTokenizer, BitsAndBytesConfig\n",
    "from peft import LoraConfig, get_peft_model\n",
    "\n",
    "# Model configuration\n",
    "MODEL_NAME = \"mistralai/Mistral-7B-Instruct-v0.2\"\n",
    "\n",
    "# Configure 4-bit quantization\n",
    "bnb_config = BitsAndBytesConfig(\n",
    "    load_in_4bit=True,\n",
    "    bnb_4bit_quant_type=\"nf4\",\n",
    "    bnb_4bit_compute_dtype=torch.float16,\n",
    "    bnb_4bit_use_double_quant=False\n",
    ")\n",
    "\n",
    "# Load tokenizer\n",
    "tokenizer = AutoTokenizer.from_pretrained(MODEL_NAME, trust_remote_code=True)\n",
    "tokenizer.pad_token = tokenizer.eos_token\n",
    "\n",
    "# Load model\n",
    "model = AutoModelForCausalLM.from_pretrained(\n",
    "    MODEL_NAME,\n",
    "    quantization_config=bnb_config,\n",
    "    device_map=\"auto\",\n",
    "    trust_remote_code=True\n",
    ")\n",
    "\n",
    "# Configure LoRA\n",
    "lora_config = LoraConfig(\n",
    "    r=64,\n",
    "    lora_alpha=16,\n",
    "    target_modules=[\"q_proj\", \"v_proj\", \"k_proj\", \"o_proj\", \"gate_proj\", \"up_proj\", \"down_proj\"],\n",
    "    lora_dropout=0.05,\n",
    "    bias=\"none\",\n",
    "    task_type=\"CAUSAL_LM\"\n",
    ")\n",
    "\n",
    "# Apply LoRA\n",
    "model = get_peft_model(model, lora_config)\n",
    "print(\"Model and tokenizer configured successfully!\")"
   ]
  },
  {
   "cell_type": "markdown",
   "id": "c9a5fbb6",
   "metadata": {},
   "source": [
    "## 3. Data Preparation\n",
    "\n",
    "Load and prepare the training data from the GitHub repository."
   ]
  },
  {
   "cell_type": "code",
   "execution_count": null,
   "id": "b093a679",
   "metadata": {},
   "outputs": [],
   "source": [
    "# Clone the repository if not already cloned\n",
    "!git clone https://github.com/Sbursu/Carbon-EF.git\n",
    "%cd Carbon-EF\n",
    "\n",
    "# Load training and validation data from GitHub\n",
    "from datasets import load_dataset\n",
    "\n",
    "# Load data from the repository\n",
    "train_data = load_dataset('json', data_files='training/data/instructions_train.json')\n",
    "val_data = load_dataset('json', data_files='training/data/instructions_val.json')\n",
    "\n",
    "# Format instruction template\n",
    "def format_instruction(example):\n",
    "    instruction = example['instruction']\n",
    "    input_text = example.get('input', '')\n",
    "    output = example['output']\n",
    "    \n",
    "    if input_text:\n",
    "        formatted = f\"<s>[INST] {instruction}\\n\\n{input_text} [/INST] {output} </s>\"\n",
    "    else:\n",
    "        formatted = f\"<s>[INST] {instruction} [/INST] {output} </s>\"\n",
    "    \n",
    "    return {'text': formatted}\n",
    "\n",
    "# Apply formatting\n",
    "train_data = train_data.map(format_instruction)\n",
    "val_data = val_data.map(format_instruction)\n",
    "\n",
    "print(f\"Training samples: {len(train_data['train'])}\")\n",
    "print(f\"Validation samples: {len(val_data['train'])}\")"
   ]
  },
  {
   "cell_type": "markdown",
   "id": "07b4be3f",
   "metadata": {},
   "source": [
    "## 4. Training Setup\n",
    "\n",
    "Configure the training arguments and initialize the trainer."
   ]
  },
  {
   "cell_type": "code",
   "execution_count": null,
   "id": "2b17c67f",
   "metadata": {},
   "outputs": [],
   "source": [
    "from transformers import TrainingArguments, Trainer, DataCollatorForSeq2Seq\n",
    "\n",
    "# Training arguments\n",
    "training_args = TrainingArguments(\n",
    "    output_dir='./results',\n",
    "    num_train_epochs=3,\n",
    "    per_device_train_batch_size=8,\n",
    "    gradient_accumulation_steps=4,\n",
    "    learning_rate=3e-4,\n",
    "    fp16=True,\n",
    "    logging_steps=10,\n",
    "    evaluation_strategy='steps',\n",
    "    eval_steps=50,\n",
    "    save_strategy='steps',\n",
    "    save_steps=50,\n",
    "    warmup_steps=100,\n",
    "    report_to='tensorboard',\n",
    "    load_best_model_at_end=True,\n",
    "    metric_for_best_model='eval_loss'\n",
    ")\n",
    "\n",
    "# Initialize trainer\n",
    "trainer = Trainer(\n",
    "    model=model,\n",
    "    args=training_args,\n",
    "    train_dataset=train_data['train'],\n",
    "    eval_dataset=val_data['train'],\n",
    "    tokenizer=tokenizer,\n",
    "    data_collator=DataCollatorForSeq2Seq(tokenizer=tokenizer, padding=True)\n",
    ")\n",
    "\n",
    "print(\"Training setup completed!\")"
   ]
  },
  {
   "cell_type": "markdown",
   "id": "984583ae",
   "metadata": {},
   "source": [
    "## 5. Model Training\n",
    "\n",
    "Start the fine-tuning process. This will take several hours depending on your GPU."
   ]
  },
  {
   "cell_type": "code",
   "execution_count": null,
   "id": "f723b52c",
   "metadata": {},
   "outputs": [],
   "source": [
    "# Start training\n",
    "trainer.train()\n",
    "\n",
    "# Save the final model\n",
    "trainer.save_model('./final_model')\n",
    "print('Training completed and model saved!')"
   ]
  },
  {
   "cell_type": "markdown",
   "id": "ee81ca91",
   "metadata": {},
   "source": [
    "## 6. Model Evaluation\n",
    "\n",
    "Evaluate the model on the test set to measure its performance."
   ]
  },
  {
   "cell_type": "code",
   "execution_count": null,
   "id": "425878de",
   "metadata": {},
   "outputs": [],
   "source": [
    "# Load test data from GitHub\n",
    "test_data = load_dataset('json', data_files='training/data/instructions_test.json')\n",
    "test_data = test_data.map(format_instruction)\n",
    "\n",
    "# Evaluate model\n",
    "eval_results = trainer.evaluate(test_data['train'])\n",
    "\n",
    "# Print evaluation results\n",
    "print('Evaluation Results:')\n",
    "print(eval_results)"
   ]
  },
  {
   "cell_type": "markdown",
   "id": "4650ea74",
   "metadata": {},
   "source": [
    "## 7. Model Saving and Export\n",
    "\n",
    "Save the fine-tuned model and configurations to Google Drive."
   ]
  },
  {
   "cell_type": "code",
   "execution_count": null,
   "id": "a414f96f",
   "metadata": {},
   "outputs": [],
   "source": [
    "import os\n",
    "import json\n",
    "\n",
    "# Save model to Google Drive\n",
    "DRIVE_PATH = '/content/drive/MyDrive/carbon_ef_model'\n",
    "os.makedirs(DRIVE_PATH, exist_ok=True)\n",
    "\n",
    "# Save model and tokenizer\n",
    "model.save_pretrained(f'{DRIVE_PATH}/model')\n",
    "tokenizer.save_pretrained(f'{DRIVE_PATH}/tokenizer')\n",
    "\n",
    "# Save training configuration\n",
    "with open(f'{DRIVE_PATH}/training_config.json', 'w') as f:\n",
    "    json.dump({\n",
    "        'model_name': MODEL_NAME,\n",
    "        'lora_config': lora_config.to_dict(),\n",
    "        'training_args': training_args.to_dict(),\n",
    "        'eval_results': eval_results\n",
    "    }, f, indent=2)\n",
    "\n",
    "print(f'Model and configurations saved to {DRIVE_PATH}')"
   ]
  }
 ],
 "metadata": {
  "language_info": {
   "name": "python"
  }
 },
 "nbformat": 4,
 "nbformat_minor": 5
}
