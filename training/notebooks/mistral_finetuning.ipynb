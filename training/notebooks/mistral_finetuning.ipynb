{
 "cells": [
  {
   "cell_type": "markdown",
   "id": "5a7ca1c0",
   "metadata": {},
   "source": [
    "# Mistral-7B Fine-tuning for Emission Factor Recommendations\n",
    "\n",
    "This notebook implements the fine-tuning process for the Mistral-7B model to generate emission factor recommendations based on the PRD specifications.\n",
    "\n",
    "## Prerequisites\n",
    "\n",
    "1. GPU Runtime in Google Colab\n",
    "2. Google Drive mounted for saving checkpoints\n",
    "3. Hugging Face account with access to Mistral-7B-Instruct-v0.2\n",
    "4. HF_TOKEN in Colab secrets"
   ]
  },
  {
   "cell_type": "markdown",
   "id": "91a041ae",
   "metadata": {},
   "source": [
    "## 1. Environment Setup\n",
    "\n",
    "Install required packages and mount Google Drive."
   ]
  },
  {
   "cell_type": "code",
   "execution_count": null,
   "id": "f097790a",
   "metadata": {},
   "outputs": [],
   "source": [
    "# Mount Google Drive\n",
    "from google.colab import drive\n",
    "drive.mount('/content/drive')\n",
    "\n",
    "# Install required packages\n",
    "!pip install -q torch transformers peft datasets accelerate bitsandbytes scipy wandb"
   ]
  },
  {
   "cell_type": "markdown",
   "id": "45933099",
   "metadata": {},
   "source": [
    "## 2. Hugging Face Authentication\n",
    "\n",
    "Authenticate with Hugging Face and verify access to the model."
   ]
  },
  {
   "cell_type": "code",
   "execution_count": null,
   "id": "28779307",
   "metadata": {},
   "outputs": [],
   "source": [
    "import os\n",
    "from huggingface_hub import login, HfApi\n",
    "\n",
    "# Login to Hugging Face\n",
    "login(token=os.environ.get('HF_TOKEN'))\n",
    "\n",
    "# Verify access\n",
    "api = HfApi()\n",
    "try:\n",
    "    api.model_info(\"mistralai/Mistral-7B-Instruct-v0.2\")\n",
    "    print(\"Successfully authenticated and have access to the model!\")\n",
    "except Exception as e:\n",
    "    print(f\"Error: {e}\")"
   ]
  },
  {
   "cell_type": "markdown",
   "id": "d9a2c025",
   "metadata": {},
   "source": [
    "## 3. Model and Tokenizer Configuration\n",
    "\n",
    "Set up the Mistral-7B model with 4-bit quantization and LoRA configuration."
   ]
  },
  {
   "cell_type": "code",
   "execution_count": null,
   "id": "08b38909",
   "metadata": {},
   "outputs": [],
   "source": [
    "import torch\n",
    "from transformers import AutoModelForCausalLM, AutoTokenizer, BitsAndBytesConfig\n",
    "from peft import LoraConfig, get_peft_model\n",
    "\n",
    "# Model configuration\n",
    "MODEL_NAME = \"mistralai/Mistral-7B-Instruct-v0.2\"\n",
    "\n",
    "# Configure 4-bit quantization\n",
    "bnb_config = BitsAndBytesConfig(\n",
    "    load_in_4bit=True,\n",
    "    bnb_4bit_quant_type=\"nf4\",\n",
    "    bnb_4bit_compute_dtype=torch.float16,\n",
    "    bnb_4bit_use_double_quant=False\n",
    ")\n",
    "\n",
    "# Load tokenizer\n",
    "tokenizer = AutoTokenizer.from_pretrained(MODEL_NAME, trust_remote_code=True)\n",
    "tokenizer.pad_token = tokenizer.eos_token\n",
    "\n",
    "# Load model\n",
    "model = AutoModelForCausalLM.from_pretrained(\n",
    "    MODEL_NAME,\n",
    "    quantization_config=bnb_config,\n",
    "    device_map=\"auto\",\n",
    "    trust_remote_code=True\n",
    ")\n",
    "\n",
    "# Configure LoRA\n",
    "lora_config = LoraConfig(\n",
    "    r=64,\n",
    "    lora_alpha=16,\n",
    "    target_modules=[\"q_proj\", \"v_proj\", \"k_proj\", \"o_proj\", \"gate_proj\", \"up_proj\", \"down_proj\"],\n",
    "    lora_dropout=0.05,\n",
    "    bias=\"none\",\n",
    "    task_type=\"CAUSAL_LM\"\n",
    ")\n",
    "\n",
    "# Apply LoRA\n",
    "model = get_peft_model(model, lora_config)\n",
    "print(\"Model and tokenizer configured successfully!\")"
   ]
  },
  {
   "cell_type": "markdown",
   "id": "36b33d25",
   "metadata": {},
   "source": [
    "## 4. Data Preparation\n",
    "\n",
    "Load and prepare the training data from the GitHub repository."
   ]
  },
  {
   "cell_type": "code",
   "execution_count": null,
   "id": "bd9cec13",
   "metadata": {},
   "outputs": [],
   "source": [
    "# Clone the repository\n",
    "!git clone https://github.com/Sbursu/Carbon-EF.git\n",
    "%cd Carbon-EF\n",
    "\n",
    "# Load datasets\n",
    "from datasets import load_dataset\n",
    "\n",
    "train_data = load_dataset('json', data_files='training/data/instructions_train.json')\n",
    "val_data = load_dataset('json', data_files='training/data/instructions_val.json')\n",
    "test_data = load_dataset('json', data_files='training/data/instructions_test.json')\n",
    "\n",
    "print(\"Datasets loaded successfully!\")"
   ]
  },
  {
   "cell_type": "markdown",
   "id": "6a4afaba",
   "metadata": {},
   "source": [
    "## 5. Training Configuration\n",
    "\n",
    "Set up training arguments and initialize the trainer."
   ]
  },
  {
   "cell_type": "code",
   "execution_count": null,
   "id": "34f0e2f8",
   "metadata": {},
   "outputs": [],
   "source": [
    "from transformers import TrainingArguments, Trainer\n",
    "\n",
    "# Training arguments\n",
    "training_args = TrainingArguments(\n",
    "    output_dir=\"/content/drive/MyDrive/mistral-ef-checkpoints\",\n",
    "    num_train_epochs=3,\n",
    "    per_device_train_batch_size=4,\n",
    "    gradient_accumulation_steps=4,\n",
    "    learning_rate=2e-4,\n",
    "    fp16=True,\n",
    "    logging_steps=10,\n",
    "    save_strategy=\"epoch\",\n",
    "    evaluation_strategy=\"epoch\",\n",
    "    load_best_model_at_end=True,\n",
    "    report_to=\"wandb\"\n",
    ")\n",
    "\n",
    "# Initialize trainer\n",
    "trainer = Trainer(\n",
    "    model=model,\n",
    "    args=training_args,\n",
    "    train_dataset=train_data['train'],\n",
    "    eval_dataset=val_data['train'],\n",
    "    tokenizer=tokenizer\n",
    ")\n",
    "\n",
    "print(\"Training configuration completed!\")"
   ]
  },
  {
   "cell_type": "markdown",
   "id": "f38b3d9f",
   "metadata": {},
   "source": [
    "## 6. Training Process\n",
    "\n",
    "Start the fine-tuning process."
   ]
  },
  {
   "cell_type": "code",
   "execution_count": null,
   "id": "52f7f7f9",
   "metadata": {},
   "outputs": [],
   "source": [
    "# Start training\n",
    "trainer.train()\n",
    "\n",
    "# Save the final model\n",
    "trainer.save_model(\"/content/drive/MyDrive/mistral-ef-final\")"
   ]
  },
  {
   "cell_type": "markdown",
   "id": "979bc7aa",
   "metadata": {},
   "source": [
    "## 7. Model Evaluation\n",
    "\n",
    "Evaluate the fine-tuned model on the test set."
   ]
  },
  {
   "cell_type": "code",
   "execution_count": null,
   "id": "0af5187c",
   "metadata": {},
   "outputs": [],
   "source": [
    "# Evaluate on test set\n",
    "test_results = trainer.evaluate(test_data['train'])\n",
    "print(f\"Test results: {test_results}\")"
   ]
  },
  {
   "cell_type": "markdown",
   "id": "d44c069f",
   "metadata": {},
   "source": [
    "## 8. Save and Export\n",
    "\n",
    "Save the model and tokenizer to Google Drive."
   ]
  },
  {
   "cell_type": "code",
   "execution_count": null,
   "id": "4ffea12b",
   "metadata": {},
   "outputs": [],
   "source": [
    "# Save model and tokenizer\n",
    "model.save_pretrained(\"/content/drive/MyDrive/mistral-ef-final\")\n",
    "tokenizer.save_pretrained(\"/content/drive/MyDrive/mistral-ef-final\")\n",
    "\n",
    "# Save training configuration\n",
    "import json\n",
    "with open(\"/content/drive/MyDrive/mistral-ef-final/training_config.json\", \"w\") as f:\n",
    "    json.dump({\n",
    "        \"model_name\": MODEL_NAME,\n",
    "        \"lora_config\": lora_config.to_dict(),\n",
    "        \"training_args\": training_args.to_dict(),\n",
    "        \"test_results\": test_results\n",
    "    }, f, indent=2)\n",
    "\n",
    "print(\"Model and configuration saved successfully!\")"
   ]
  }
 ],
 "metadata": {},
 "nbformat": 4,
 "nbformat_minor": 5
}
