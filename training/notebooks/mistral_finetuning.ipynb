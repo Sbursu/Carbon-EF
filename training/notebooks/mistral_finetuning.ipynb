{
  "cells": [
    {
      "cell_type": "markdown",
      "metadata": {},
      "source": "# Mistral-7B Fine-Tuning\n\nThis notebook implements fine-tuning of Mistral-7B for emission factor recommendations.\n\n## Setup\n1. Select Runtime > Change runtime type and choose GPU\n2. Run cells in sequence"
    },
    {
      "cell_type": "code",
      "metadata": {},
      "execution_count": null,
      "source": "# Check GPU availability\n!nvidia-smi"
    },
    {
      "cell_type": "markdown",
      "metadata": {},
      "source": "## Install Dependencies"
    },
    {
      "cell_type": "code",
      "metadata": {},
      "execution_count": null,
      "source": "!pip install -q transformers==4.36.2 datasets==2.16.1 peft==0.7.1 accelerate==0.25.0 bitsandbytes==0.41.3 trl==0.7.11 wandb==0.16.3\n!pip install -q torch==2.1.2 torchvision==0.16.2 torchaudio==2.1.2 --index-url https://download.pytorch.org/whl/cu118"
    },
    {
      "cell_type": "markdown",
      "metadata": {},
      "source": "## Clone Repository and Import Scripts"
    },
    {
      "cell_type": "code",
      "metadata": {},
      "execution_count": null,
      "source": "!git clone https://github.com/Sbursu/Carbon-EF.git\n%cd Carbon-EF\n\nfrom training.scripts.data_preparation import load_and_prepare_data, format_instruction\nfrom training.scripts.model_config import setup_model_and_tokenizer, get_training_config\nfrom training.scripts.training import setup_trainer, evaluate_model, save_model"
    },
    {
      "cell_type": "markdown",
      "metadata": {},
      "source": "## Prepare Training Data"
    },
    {
      "cell_type": "code",
      "metadata": {},
      "execution_count": null,
      "source": "# Load and prepare data\ntrain_data, val_data = load_and_prepare_data()\n\n# Format data for training\ntrain_data = train_data.map(format_instruction)\nval_data = val_data.map(format_instruction)\n\n# Avoiding f-string\nprint(\"Training examples:\", len(train_data[\"train\"]))"
    },
    {
      "cell_type": "markdown",
      "metadata": {},
      "source": "## Initialize Model"
    },
    {
      "cell_type": "code",
      "metadata": {},
      "execution_count": null,
      "source": "# Set up model and tokenizer\nmodel, tokenizer = setup_model_and_tokenizer()\n\n# Get training configuration\nconfig = get_training_config()\n\n# Set up trainer\ntrainer = setup_trainer(model, tokenizer, train_data, val_data, config)"
    },
    {
      "cell_type": "markdown",
      "metadata": {},
      "source": "## Start Training"
    },
    {
      "cell_type": "code",
      "metadata": {},
      "execution_count": null,
      "source": "# Start training\ntrainer.train()\n\n# Save model\nsave_model(model, tokenizer, config['output_dir'])"
    },
    {
      "cell_type": "markdown",
      "metadata": {},
      "source": "## Evaluate Model"
    },
    {
      "cell_type": "code",
      "metadata": {},
      "execution_count": null,
      "source": "# Run evaluation\nresults = evaluate_model(model, tokenizer)\n\n# Display results\nfor result in results:\n    print(\"Query:\", result[\"query\"])\n    print(\"Response:\", result[\"response\"])\n    print()"
    },
    {
      "cell_type": "markdown",
      "metadata": {},
      "source": "## Test Your Own Queries"
    },
    {
      "cell_type": "code",
      "metadata": {},
      "execution_count": null,
      "source": "from training.scripts.training import generate_recommendation\n\nquery = \"What is the emission factor for cement production in India?\"\nresponse = generate_recommendation(model, tokenizer, query)\nprint(\"Response:\", response)"
    }
  ],
  "metadata": {
    "accelerator": "GPU",
    "colab": {
      "gpuType": "T4",
      "provenance": []
    },
    "kernelspec": {
      "display_name": "Python 3",
      "name": "python3"
    },
    "language_info": {
      "name": "python"
    }
  },
  "nbformat": 4,
  "nbformat_minor": 0
}